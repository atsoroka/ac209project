{
 "cells": [
  {
   "cell_type": "markdown",
   "metadata": {},
   "source": [
    "# Milestone 3: Data Exploration\n",
    "\n",
    "### 11/6/16\n",
    "____________"
   ]
  },
  {
   "cell_type": "markdown",
   "metadata": {},
   "source": [
    "## Summary Dashboards\n",
    "### Use interactive elements to explore the dashboards!"
   ]
  },
  {
   "cell_type": "code",
   "execution_count": 75,
   "metadata": {
    "collapsed": false,
    "scrolled": false
   },
   "outputs": [
    {
     "data": {
      "text/html": [
       "<div class='tableauPlaceholder' id='viz1478236028725' style='position: relative'><noscript><a href='#'><img alt='Reviews are mostly 5-star, and from 2013-2014 ' src='https:&#47;&#47;public.tableau.com&#47;static&#47;images&#47;Ra&#47;RatingsandReviews-Summary&#47;Viz1&#47;1_rss.png' style='border: none' /></a></noscript><object class='tableauViz'  style='display:none;'><param name='host_url' value='https%3A%2F%2Fpublic.tableau.com%2F' /> <param name='site_root' value='' /><param name='name' value='RatingsandReviews-Summary&#47;Viz1' /><param name='tabs' value='no' /><param name='toolbar' value='yes' /><param name='static_image' value='https:&#47;&#47;public.tableau.com&#47;static&#47;images&#47;Ra&#47;RatingsandReviews-Summary&#47;Viz1&#47;1.png' /> <param name='animate_transition' value='yes' /><param name='display_static_image' value='yes' /><param name='display_spinner' value='yes' /><param name='display_overlay' value='yes' /><param name='display_count' value='yes' /></object></div>                <script type='text/javascript'>                    var divElement = document.getElementById('viz1478236028725');                    var vizElement = divElement.getElementsByTagName('object')[0];                    vizElement.style.width='1004px';vizElement.style.height='669px';                    var scriptElement = document.createElement('script');                    scriptElement.src = 'https://public.tableau.com/javascripts/api/viz_v1.js';                    vizElement.parentNode.insertBefore(scriptElement, vizElement);                </script>"
      ],
      "text/plain": [
       "<IPython.core.display.HTML object>"
      ]
     },
     "execution_count": 75,
     "metadata": {},
     "output_type": "execute_result"
    }
   ],
   "source": [
    "HTML(\"<div class='tableauPlaceholder' id='viz1478236028725' style='position: relative'><noscript><a href='#'><img alt='Reviews are mostly 5-star, and from 2013-2014 ' src='https:&#47;&#47;public.tableau.com&#47;static&#47;images&#47;Ra&#47;RatingsandReviews-Summary&#47;Viz1&#47;1_rss.png' style='border: none' /></a></noscript><object class='tableauViz'  style='display:none;'><param name='host_url' value='https%3A%2F%2Fpublic.tableau.com%2F' /> <param name='site_root' value='' /><param name='name' value='RatingsandReviews-Summary&#47;Viz1' /><param name='tabs' value='no' /><param name='toolbar' value='yes' /><param name='static_image' value='https:&#47;&#47;public.tableau.com&#47;static&#47;images&#47;Ra&#47;RatingsandReviews-Summary&#47;Viz1&#47;1.png' /> <param name='animate_transition' value='yes' /><param name='display_static_image' value='yes' /><param name='display_spinner' value='yes' /><param name='display_overlay' value='yes' /><param name='display_count' value='yes' /></object></div>                <script type='text/javascript'>                    var divElement = document.getElementById('viz1478236028725');                    var vizElement = divElement.getElementsByTagName('object')[0];                    vizElement.style.width='1004px';vizElement.style.height='669px';                    var scriptElement = document.createElement('script');                    scriptElement.src = 'https://public.tableau.com/javascripts/api/viz_v1.js';                    vizElement.parentNode.insertBefore(scriptElement, vizElement);                </script>\")"
   ]
  },
  {
   "cell_type": "code",
   "execution_count": 74,
   "metadata": {
    "collapsed": false,
    "scrolled": false
   },
   "outputs": [
    {
     "data": {
      "text/html": [
       "<div class='tableauPlaceholder' id='viz1478235787641' style='position: relative'><noscript><a href='#'><img alt='This dataset has ~ 1 million reviews, ~60,000 products, and ~70,000 reviewers ' src='https:&#47;&#47;public.tableau.com&#47;static&#47;images&#47;Ra&#47;RatingsandReviews-Summary&#47;Viz3&#47;1_rss.png' style='border: none' /></a></noscript><object class='tableauViz'  style='display:none;'><param name='host_url' value='https%3A%2F%2Fpublic.tableau.com%2F' /> <param name='site_root' value='' /><param name='name' value='RatingsandReviews-Summary&#47;Viz3' /><param name='tabs' value='no' /><param name='toolbar' value='yes' /><param name='static_image' value='https:&#47;&#47;public.tableau.com&#47;static&#47;images&#47;Ra&#47;RatingsandReviews-Summary&#47;Viz3&#47;1.png' /> <param name='animate_transition' value='yes' /><param name='display_static_image' value='yes' /><param name='display_spinner' value='yes' /><param name='display_overlay' value='yes' /><param name='display_count' value='yes' /></object></div>                <script type='text/javascript'>                    var divElement = document.getElementById('viz1478235787641');                    var vizElement = divElement.getElementsByTagName('object')[0];                    vizElement.style.width='1004px';vizElement.style.height='669px';                    var scriptElement = document.createElement('script');                    scriptElement.src = 'https://public.tableau.com/javascripts/api/viz_v1.js';                    vizElement.parentNode.insertBefore(scriptElement, vizElement);                </script>"
      ],
      "text/plain": [
       "<IPython.core.display.HTML object>"
      ]
     },
     "execution_count": 74,
     "metadata": {},
     "output_type": "execute_result"
    }
   ],
   "source": [
    "HTML(\"<div class='tableauPlaceholder' id='viz1478235787641' style='position: relative'><noscript><a href='#'><img alt='This dataset has ~ 1 million reviews, ~60,000 products, and ~70,000 reviewers ' src='https:&#47;&#47;public.tableau.com&#47;static&#47;images&#47;Ra&#47;RatingsandReviews-Summary&#47;Viz3&#47;1_rss.png' style='border: none' /></a></noscript><object class='tableauViz'  style='display:none;'><param name='host_url' value='https%3A%2F%2Fpublic.tableau.com%2F' /> <param name='site_root' value='' /><param name='name' value='RatingsandReviews-Summary&#47;Viz3' /><param name='tabs' value='no' /><param name='toolbar' value='yes' /><param name='static_image' value='https:&#47;&#47;public.tableau.com&#47;static&#47;images&#47;Ra&#47;RatingsandReviews-Summary&#47;Viz3&#47;1.png' /> <param name='animate_transition' value='yes' /><param name='display_static_image' value='yes' /><param name='display_spinner' value='yes' /><param name='display_overlay' value='yes' /><param name='display_count' value='yes' /></object></div>                <script type='text/javascript'>                    var divElement = document.getElementById('viz1478235787641');                    var vizElement = divElement.getElementsByTagName('object')[0];                    vizElement.style.width='1004px';vizElement.style.height='669px';                    var scriptElement = document.createElement('script');                    scriptElement.src = 'https://public.tableau.com/javascripts/api/viz_v1.js';                    vizElement.parentNode.insertBefore(scriptElement, vizElement);                </script>\")"
   ]
  },
  {
   "cell_type": "code",
   "execution_count": 73,
   "metadata": {
    "collapsed": false,
    "scrolled": false
   },
   "outputs": [
    {
     "data": {
      "text/html": [
       "<div class='tableauPlaceholder' id='viz1478235249655' style='position: relative'><noscript><a href='#'><img alt='Reviews that have a higher rating are rated as more helpful ' src='https:&#47;&#47;public.tableau.com&#47;static&#47;images&#47;Ra&#47;RatingsandReviews-Summary&#47;Viz4&#47;1_rss.png' style='border: none' /></a></noscript><object class='tableauViz'  style='display:none;'><param name='host_url' value='https%3A%2F%2Fpublic.tableau.com%2F' /> <param name='site_root' value='' /><param name='name' value='RatingsandReviews-Summary&#47;Viz4' /><param name='tabs' value='no' /><param name='toolbar' value='yes' /><param name='static_image' value='https:&#47;&#47;public.tableau.com&#47;static&#47;images&#47;Ra&#47;RatingsandReviews-Summary&#47;Viz4&#47;1.png' /> <param name='animate_transition' value='yes' /><param name='display_static_image' value='yes' /><param name='display_spinner' value='yes' /><param name='display_overlay' value='yes' /><param name='display_count' value='yes' /></object></div>                <script type='text/javascript'>                    var divElement = document.getElementById('viz1478235249655');                    var vizElement = divElement.getElementsByTagName('object')[0];                    vizElement.style.width='1004px';vizElement.style.height='669px';                    var scriptElement = document.createElement('script');                    scriptElement.src = 'https://public.tableau.com/javascripts/api/viz_v1.js';                    vizElement.parentNode.insertBefore(scriptElement, vizElement);                </script>"
      ],
      "text/plain": [
       "<IPython.core.display.HTML object>"
      ]
     },
     "execution_count": 73,
     "metadata": {},
     "output_type": "execute_result"
    }
   ],
   "source": [
    "from IPython.display import HTML\n",
    "HTML(\"<div class='tableauPlaceholder' id='viz1478235249655' style='position: relative'><noscript><a href='#'><img alt='Reviews that have a higher rating are rated as more helpful ' src='https:&#47;&#47;public.tableau.com&#47;static&#47;images&#47;Ra&#47;RatingsandReviews-Summary&#47;Viz4&#47;1_rss.png' style='border: none' /></a></noscript><object class='tableauViz'  style='display:none;'><param name='host_url' value='https%3A%2F%2Fpublic.tableau.com%2F' /> <param name='site_root' value='' /><param name='name' value='RatingsandReviews-Summary&#47;Viz4' /><param name='tabs' value='no' /><param name='toolbar' value='yes' /><param name='static_image' value='https:&#47;&#47;public.tableau.com&#47;static&#47;images&#47;Ra&#47;RatingsandReviews-Summary&#47;Viz4&#47;1.png' /> <param name='animate_transition' value='yes' /><param name='display_static_image' value='yes' /><param name='display_spinner' value='yes' /><param name='display_overlay' value='yes' /><param name='display_count' value='yes' /></object></div>                <script type='text/javascript'>                    var divElement = document.getElementById('viz1478235249655');                    var vizElement = divElement.getElementsByTagName('object')[0];                    vizElement.style.width='1004px';vizElement.style.height='669px';                    var scriptElement = document.createElement('script');                    scriptElement.src = 'https://public.tableau.com/javascripts/api/viz_v1.js';                    vizElement.parentNode.insertBefore(scriptElement, vizElement);                </script>\")"
   ]
  },
  {
   "cell_type": "code",
   "execution_count": 76,
   "metadata": {
    "collapsed": false,
    "scrolled": false
   },
   "outputs": [
    {
     "data": {
      "text/html": [
       "<div class='tableauPlaceholder' id='viz1478235929024' style='position: relative'><noscript><a href='#'><img alt='Most reviewers have written 5-10 reviews ' src='https:&#47;&#47;public.tableau.com&#47;static&#47;images&#47;Ra&#47;RatingsandReviews-Summary&#47;Viz2&#47;1_rss.png' style='border: none' /></a></noscript><object class='tableauViz'  style='display:none;'><param name='host_url' value='https%3A%2F%2Fpublic.tableau.com%2F' /> <param name='site_root' value='' /><param name='name' value='RatingsandReviews-Summary&#47;Viz2' /><param name='tabs' value='no' /><param name='toolbar' value='yes' /><param name='static_image' value='https:&#47;&#47;public.tableau.com&#47;static&#47;images&#47;Ra&#47;RatingsandReviews-Summary&#47;Viz2&#47;1.png' /> <param name='animate_transition' value='yes' /><param name='display_static_image' value='yes' /><param name='display_spinner' value='yes' /><param name='display_overlay' value='yes' /><param name='display_count' value='yes' /></object></div>                <script type='text/javascript'>                    var divElement = document.getElementById('viz1478235929024');                    var vizElement = divElement.getElementsByTagName('object')[0];                    vizElement.style.width='1004px';vizElement.style.height='669px';                    var scriptElement = document.createElement('script');                    scriptElement.src = 'https://public.tableau.com/javascripts/api/viz_v1.js';                    vizElement.parentNode.insertBefore(scriptElement, vizElement);                </script>"
      ],
      "text/plain": [
       "<IPython.core.display.HTML object>"
      ]
     },
     "execution_count": 76,
     "metadata": {},
     "output_type": "execute_result"
    }
   ],
   "source": [
    "HTML(\"<div class='tableauPlaceholder' id='viz1478235929024' style='position: relative'><noscript><a href='#'><img alt='Most reviewers have written 5-10 reviews ' src='https:&#47;&#47;public.tableau.com&#47;static&#47;images&#47;Ra&#47;RatingsandReviews-Summary&#47;Viz2&#47;1_rss.png' style='border: none' /></a></noscript><object class='tableauViz'  style='display:none;'><param name='host_url' value='https%3A%2F%2Fpublic.tableau.com%2F' /> <param name='site_root' value='' /><param name='name' value='RatingsandReviews-Summary&#47;Viz2' /><param name='tabs' value='no' /><param name='toolbar' value='yes' /><param name='static_image' value='https:&#47;&#47;public.tableau.com&#47;static&#47;images&#47;Ra&#47;RatingsandReviews-Summary&#47;Viz2&#47;1.png' /> <param name='animate_transition' value='yes' /><param name='display_static_image' value='yes' /><param name='display_spinner' value='yes' /><param name='display_overlay' value='yes' /><param name='display_count' value='yes' /></object></div>                <script type='text/javascript'>                    var divElement = document.getElementById('viz1478235929024');                    var vizElement = divElement.getElementsByTagName('object')[0];                    vizElement.style.width='1004px';vizElement.style.height='669px';                    var scriptElement = document.createElement('script');                    scriptElement.src = 'https://public.tableau.com/javascripts/api/viz_v1.js';                    vizElement.parentNode.insertBefore(scriptElement, vizElement);                </script>\")"
   ]
  },
  {
   "cell_type": "markdown",
   "metadata": {},
   "source": [
    "____________"
   ]
  },
  {
   "cell_type": "code",
   "execution_count": 72,
   "metadata": {
    "collapsed": true,
    "scrolled": false
   },
   "outputs": [],
   "source": [
    "import numpy as np\n",
    "from mpl_toolkits.mplot3d import Axes3D\n",
    "import matplotlib\n",
    "import matplotlib.pyplot as plt\n",
    "import matplotlib.cm as cmx\n",
    "import matplotlib.colors as colors\n",
    "import statsmodels.formula.api as sm\n",
    "import pandas as pd\n",
    "from sklearn import linear_model\n",
    "from sklearn.feature_extraction.text import CountVectorizer\n",
    "from sklearn.neighbors import KNeighborsClassifier as KNN\n",
    "from sklearn.linear_model import LogisticRegression as LogReg\n",
    "from sklearn.decomposition import PCA\n",
    "import json\n",
    "%matplotlib inline"
   ]
  },
  {
   "cell_type": "code",
   "execution_count": 9,
   "metadata": {
    "collapsed": false,
    "scrolled": false
   },
   "outputs": [],
   "source": [
    "with open('reviews.json', 'rb') as f:\n",
    "    data = f.readlines()\n",
    "    \n",
    "data = map(lambda x: x.rstrip(), data)\n",
    "\n",
    "data_json_str = \"[\" + ','.join(data) + \"]\"\n",
    "\n",
    "data_df = pd.read_json(data_json_str)"
   ]
  },
  {
   "cell_type": "code",
   "execution_count": 12,
   "metadata": {
    "collapsed": false,
    "scrolled": false
   },
   "outputs": [
    {
     "name": "stdout",
     "output_type": "stream",
     "text": [
      "         asin helpful  overall  \\\n",
      "0  B000F83SZQ  [0, 0]        5   \n",
      "1  B000F83SZQ  [2, 2]        4   \n",
      "2  B000F83SZQ  [2, 2]        4   \n",
      "3  B000F83SZQ  [1, 1]        5   \n",
      "4  B000F83SZQ  [0, 1]        4   \n",
      "5  B000F83SZQ  [0, 0]        4   \n",
      "6  B000F83SZQ  [0, 0]        4   \n",
      "7  B000F83SZQ  [1, 1]        4   \n",
      "8  B000FA64PA  [0, 0]        5   \n",
      "9  B000FA64PA  [0, 0]        4   \n",
      "\n",
      "                                          reviewText   reviewTime  \\\n",
      "0  I enjoy vintage books and movies so I enjoyed ...   05 5, 2014   \n",
      "1  This book is a reissue of an old one; the auth...   01 6, 2014   \n",
      "2  This was a fairly interesting read.  It had ol...   04 4, 2014   \n",
      "3  I'd never read any of the Amy Brewster mysteri...  02 19, 2014   \n",
      "4  If you like period pieces - clothing, lingo, y...  03 19, 2014   \n",
      "5  A beautiful in-depth character description mak...  05 26, 2014   \n",
      "6  I enjoyed this one tho I'm not sure why it's c...  06 10, 2014   \n",
      "7  Never heard of Amy Brewster. But I don't need ...  03 22, 2014   \n",
      "8  Darth Maul working under cloak of darkness com...  10 11, 2013   \n",
      "9  This is a short story focused on Darth Maul's ...  02 13, 2011   \n",
      "\n",
      "       reviewerID                         reviewerName  \\\n",
      "0  A1F6404F1VG29J                           Avidreader   \n",
      "1   AN0N05A9LIJEQ                             critters   \n",
      "2   A795DMNCJILA6                                  dot   \n",
      "3  A1FV0SX13TWVXQ  Elaine H. Turley \"Montana Songbird\"   \n",
      "4  A3SPTOKDG7WBLN                   Father Dowling Fan   \n",
      "5  A1RK2OCZDSGC6R                     ubavka seirovska   \n",
      "6  A2HSAKHC3IBRE6                             Wolfmist   \n",
      "7  A3DE6XGZ2EPADS                                  WPY   \n",
      "8  A1UG4Q4D3OAH3A                                  dsa   \n",
      "9   AQZH7YTWQPOBE                             Enjolras   \n",
      "\n",
      "                                         summary  unixReviewTime  \n",
      "0                             Nice vintage story      1399248000  \n",
      "1                                   Different...      1388966400  \n",
      "2                                          Oldie      1396569600  \n",
      "3                             I really liked it.      1392768000  \n",
      "4                                 Period Mystery      1395187200  \n",
      "5                                         Review      1401062400  \n",
      "6                       Nice old fashioned story      1402358400  \n",
      "7  Enjoyable reading and reminding the old times      1395446400  \n",
      "8                                     Darth Maul      1381449600  \n",
      "9                       Not bad, not exceptional      1297555200  \n"
     ]
    }
   ],
   "source": [
    "print data_df[0:10]"
   ]
  },
  {
   "cell_type": "code",
   "execution_count": 28,
   "metadata": {
    "collapsed": false,
    "scrolled": false
   },
   "outputs": [
    {
     "name": "stdout",
     "output_type": "stream",
     "text": [
      "day         5\n",
      "month      05\n",
      "year     2014\n",
      "Name: 0, dtype: object\n"
     ]
    }
   ],
   "source": [
    "years = []\n",
    "months = []\n",
    "days = []\n",
    "for date in data_df['reviewTime']:\n",
    "    splitted = date.split(' ')\n",
    "    years.append(splitted[2])\n",
    "    months.append(splitted[0])\n",
    "    day = splitted[1]\n",
    "    days.append(day[:-1])\n",
    "    \n",
    "date_df = pd.DataFrame({'year': years,\n",
    "                       'month': months,\n",
    "                       'day': days})\n",
    "\n",
    "print date_df.iloc[0]\n",
    "final_dates = pd.to_datetime(date_df)"
   ]
  },
  {
   "cell_type": "code",
   "execution_count": 30,
   "metadata": {
    "collapsed": false,
    "scrolled": false
   },
   "outputs": [],
   "source": [
    "data_df['datetimes'] = final_dates"
   ]
  },
  {
   "cell_type": "code",
   "execution_count": 32,
   "metadata": {
    "collapsed": false,
    "scrolled": true
   },
   "outputs": [
    {
     "name": "stdout",
     "output_type": "stream",
     "text": [
      "              asin   helpful  overall  \\\n",
      "0       B000F83SZQ    [0, 0]        5   \n",
      "1       B000F83SZQ    [2, 2]        4   \n",
      "2       B000F83SZQ    [2, 2]        4   \n",
      "3       B000F83SZQ    [1, 1]        5   \n",
      "4       B000F83SZQ    [0, 1]        4   \n",
      "5       B000F83SZQ    [0, 0]        4   \n",
      "6       B000F83SZQ    [0, 0]        4   \n",
      "7       B000F83SZQ    [1, 1]        4   \n",
      "8       B000FA64PA    [0, 0]        5   \n",
      "9       B000FA64PA    [0, 0]        4   \n",
      "10      B000FA64PA    [0, 0]        5   \n",
      "11      B000FA64PA    [0, 0]        4   \n",
      "12      B000FA64PA    [0, 0]        3   \n",
      "13      B000FA64PK    [0, 0]        3   \n",
      "14      B000FA64PK    [0, 0]        5   \n",
      "15      B000FA64PK    [0, 0]        5   \n",
      "16      B000FA64PK    [0, 0]        5   \n",
      "17      B000FA64PK    [4, 4]        3   \n",
      "18      B000FA64PK    [0, 1]        5   \n",
      "19      B000FA64PK    [0, 0]        4   \n",
      "20      B000FA64PK    [0, 0]        5   \n",
      "21      B000FA64QO    [0, 0]        2   \n",
      "22      B000FA64QO    [0, 0]        5   \n",
      "23      B000FA64QO    [2, 2]        4   \n",
      "24      B000FA64QO    [0, 0]        5   \n",
      "25      B000FA64QO    [0, 0]        3   \n",
      "26      B000FBFMVG    [0, 0]        5   \n",
      "27      B000FBFMVG    [5, 5]        3   \n",
      "28      B000FBFMVG    [0, 1]        4   \n",
      "29      B000FBFMVG    [0, 0]        5   \n",
      "...            ...       ...      ...   \n",
      "982589  B00M0RE7CS    [1, 2]        5   \n",
      "982590  B00M0RE7CS    [1, 1]        5   \n",
      "982591  B00M0RE7CS    [1, 1]        5   \n",
      "982592  B00M0RE7CS  [11, 11]        5   \n",
      "982593  B00M0RE7CS    [9, 9]        5   \n",
      "982594  B00M0RE7CS    [1, 2]        5   \n",
      "982595  B00M0RE7CS    [5, 5]        5   \n",
      "982596  B00M0RE7CS    [1, 2]        5   \n",
      "982597  B00M0RE7CS    [2, 2]        5   \n",
      "982598  B00M0RE7CS    [1, 1]        5   \n",
      "982599  B00M0RE7CS    [1, 2]        5   \n",
      "982600  B00M0RE7CS    [4, 4]        5   \n",
      "982601  B00M0RE7CS    [7, 7]        5   \n",
      "982602  B00M0RE7CS    [7, 7]        5   \n",
      "982603  B00M0RE7CS    [1, 2]        5   \n",
      "982604  B00M0RE7CS    [1, 1]        5   \n",
      "982605  B00M0RE7CS    [2, 2]        5   \n",
      "982606  B00M0RE7CS    [3, 3]        5   \n",
      "982607  B00M0RE7CS    [5, 5]        5   \n",
      "982608  B00M0RE7CS    [1, 2]        5   \n",
      "982609  B00M0RE7CS    [1, 1]        5   \n",
      "982610  B00M0RE7CS    [1, 1]        5   \n",
      "982611  B00M0RE7CS    [3, 3]        5   \n",
      "982612  B00M13FNSS    [2, 2]        4   \n",
      "982613  B00M13FNSS    [2, 2]        5   \n",
      "982614  B00M13FNSS    [2, 2]        5   \n",
      "982615  B00M13FNSS    [0, 0]        5   \n",
      "982616  B00M13FNSS    [1, 1]        5   \n",
      "982617  B00M13FNSS    [0, 0]        5   \n",
      "982618  B00M13FNSS    [2, 2]        5   \n",
      "\n",
      "                                               reviewText   reviewTime  \\\n",
      "0       I enjoy vintage books and movies so I enjoyed ...   05 5, 2014   \n",
      "1       This book is a reissue of an old one; the auth...   01 6, 2014   \n",
      "2       This was a fairly interesting read.  It had ol...   04 4, 2014   \n",
      "3       I'd never read any of the Amy Brewster mysteri...  02 19, 2014   \n",
      "4       If you like period pieces - clothing, lingo, y...  03 19, 2014   \n",
      "5       A beautiful in-depth character description mak...  05 26, 2014   \n",
      "6       I enjoyed this one tho I'm not sure why it's c...  06 10, 2014   \n",
      "7       Never heard of Amy Brewster. But I don't need ...  03 22, 2014   \n",
      "8       Darth Maul working under cloak of darkness com...  10 11, 2013   \n",
      "9       This is a short story focused on Darth Maul's ...  02 13, 2011   \n",
      "10      I think I have this one in both book and audio...  01 27, 2014   \n",
      "11      Title has nothing to do with the story.  I did...  09 17, 2011   \n",
      "12      Well written. Interesting to see Sideous (thro...  12 31, 2013   \n",
      "13      Troy Denning's novella Recovery was originally...  03 15, 2012   \n",
      "14      I am not for sure on how much of a difference ...  05 12, 2013   \n",
      "15      I really enjoyed the book. Had the normal back...   01 2, 2014   \n",
      "16      Great read enjoyed every minute of it .  I thi...  10 29, 2013   \n",
      "17      Another well written eBook by Troy Denning, bu...  04 16, 2009   \n",
      "18      This one promises to be another good book. I h...  01 27, 2014   \n",
      "19      I have a version of \"Star by Star\" that does n...  07 20, 2012   \n",
      "20      Excellent! Very well written story, very excit...  12 31, 2013   \n",
      "21      With Ylesia, a novella originally published in...  03 15, 2012   \n",
      "22      Great book couldn't put it down.  The story ex...   02 4, 2014   \n",
      "23      Most of the New Jedi Order books focus on the ...  05 17, 2011   \n",
      "24      I was hoping to find this one in book form. Th...  01 27, 2014   \n",
      "25      The events of \"Ylesia\" take place during \"Dest...   08 7, 2012   \n",
      "26      Really shouldn't have Han Solo on the cover as...  02 15, 2014   \n",
      "27      Originally published as an e-book coinciding w...  08 25, 2008   \n",
      "28      This book was a good idea. I have always wante...   04 1, 2013   \n",
      "29      Great short story. It gives a little more insi...   01 2, 2014   \n",
      "...                                                   ...          ...   \n",
      "982589  4.5 StarsAnother great book from these two won...  07 23, 2014   \n",
      "982590  There's a lot of stuff in this short &#34;pack...  07 23, 2014   \n",
      "982591  I LOVE both of these authors and when they tea...  07 23, 2014   \n",
      "982592  I loved that I honestly really had no clue wha...  07 22, 2014   \n",
      "982593  Mmmmmmmmmmm. How do you sum up the Erotic Quic...  07 22, 2014   \n",
      "982594  This was such an amazing read. I could not put...  07 23, 2014   \n",
      "982595  I was so excited to read this book and it did ...  07 22, 2014   \n",
      "982596  WOW! That pretty much sums up how I feel after...  07 22, 2014   \n",
      "982597  There hasn't been a better combo than SE Hall ...  07 23, 2014   \n",
      "982598  Loved it. it was full of everything and hot as...  07 23, 2014   \n",
      "982599  When I heard these two authors were going to d...  07 23, 2014   \n",
      "982600  ***RECIEVED AN ARC FOR AN HONEST REVIEW***Anot...  07 22, 2014   \n",
      "982601  So, you see that vague synopsis up above.  I a...  07 22, 2014   \n",
      "982602  5.0 Star ReviewLove this story.  Quick read th...  07 22, 2014   \n",
      "982603  6-WELL-DELIVERED STARS!PACKAGED WELL DELIVERED...  07 22, 2014   \n",
      "982604  I was given a ARC in exchange for my honest re...  07 22, 2014   \n",
      "982605  I have been so excited for this one since read...  07 22, 2014   \n",
      "982606  You know when you get these two authors togeth...  07 22, 2014   \n",
      "982607  Looking for a QUICK super steamy read.. Look n...  07 22, 2014   \n",
      "982608  What a perfectly packaged erotic quickie.  I m...  07 23, 2014   \n",
      "982609  I am so in love with Shaw. This was an awesome...  07 22, 2014   \n",
      "982610  It's a simple twist of a book . That ONE that ...  07 23, 2014   \n",
      "982611  Whoa! Excuse me while I finish fanning myself,...  07 22, 2014   \n",
      "982612  Dre is quite possibly the worst  character I h...  07 23, 2014   \n",
      "982613  This book was amazing. It was definitely worth...  07 23, 2014   \n",
      "982614  Yasss hunny! This is a great read. That Dre is...  07 23, 2014   \n",
      "982615  I ENJOYED THIS BOOK FROM BEGINNING TO END NOW ...  07 23, 2014   \n",
      "982616  Great book! Cherika was a fool. She let that m...  07 23, 2014   \n",
      "982617  When I say this was an excellent book please b...  07 23, 2014   \n",
      "982618  This book was everything. I just hope Alexus w...  07 23, 2014   \n",
      "\n",
      "            reviewerID                             reviewerName  \\\n",
      "0       A1F6404F1VG29J                               Avidreader   \n",
      "1        AN0N05A9LIJEQ                                 critters   \n",
      "2        A795DMNCJILA6                                      dot   \n",
      "3       A1FV0SX13TWVXQ      Elaine H. Turley \"Montana Songbird\"   \n",
      "4       A3SPTOKDG7WBLN                       Father Dowling Fan   \n",
      "5       A1RK2OCZDSGC6R                         ubavka seirovska   \n",
      "6       A2HSAKHC3IBRE6                                 Wolfmist   \n",
      "7       A3DE6XGZ2EPADS                                      WPY   \n",
      "8       A1UG4Q4D3OAH3A                                      dsa   \n",
      "9        AQZH7YTWQPOBE                                 Enjolras   \n",
      "10      A1ZT7WV0ZUA0OJ                                     Mike   \n",
      "11      A2ZFR72PT054YS                               monkeyluis   \n",
      "12       A2QK1U70OJ74P                              Sharon Deem   \n",
      "13      A3SZMGJMV0G16C    Andrew Pruette \"Rancors Love to Read\"   \n",
      "14      A3H8PE1UFK04JZ                              Caleb Watts   \n",
      "15      A2EN84QHDRZLP2                               Carl craft   \n",
      "16      A1UG4Q4D3OAH3A                                      dsa   \n",
      "17      A38Z3Q6DTDIH9J                 Jimmy J. Shaw \"oldbent1\"   \n",
      "18      A1ZT7WV0ZUA0OJ                                     Mike   \n",
      "19      A22CW0ZHY3NJH8                                   Noname   \n",
      "20       A2QK1U70OJ74P                              Sharon Deem   \n",
      "21      A3SZMGJMV0G16C    Andrew Pruette \"Rancors Love to Read\"   \n",
      "22      A1UG4Q4D3OAH3A                                      dsa   \n",
      "23       AQZH7YTWQPOBE                                 Enjolras   \n",
      "24      A1ZT7WV0ZUA0OJ                                     Mike   \n",
      "25      A22CW0ZHY3NJH8                                   Noname   \n",
      "26      A3AZH0OO0GUAI3                          Amazon Customer   \n",
      "27      A3SZMGJMV0G16C    Andrew Pruette \"Rancors Love to Read\"   \n",
      "28      A3H8PE1UFK04JZ                              Caleb Watts   \n",
      "29      A2EN84QHDRZLP2                               Carl craft   \n",
      "...                ...                                      ...   \n",
      "982589   ALY4MQYVAEE4U                                      Deb   \n",
      "982590  A1T5CK8KC56JZ9                             Jamie Rhodes   \n",
      "982591   AFLBHS78OJI2A                       Jennifer Alumbaugh   \n",
      "982592   AX3TLNYEO40S7                         Jennifer Van Wyk   \n",
      "982593  A2LNCH4E0XYIWV          Jill (Love Affair With Fiction)   \n",
      "982594  A3JCJ0PRFLNHYP                Joy Whiteside \"book worm\"   \n",
      "982595  A1TN76NFCES8TO                                 KaiSarks   \n",
      "982596  A2OHI4ATBXV0YS                                kellbelle   \n",
      "982597   A7XOAETR7A9HO                                       mg   \n",
      "982598  A3RSK54GLJ298Q                            M.Nageldinger   \n",
      "982599  A33W5XNY9X8SSF                                  Nichole   \n",
      "982600   AB6262UKY7CLA                           Reader's Candy   \n",
      "982601  A3FW06OAUGJ884                         Red Cheeks Reads   \n",
      "982602  A30L2TBSVJ6X6F  Renee Entress \"Tell us about yourself!\"   \n",
      "982603   A56U46MCHKX76                                   RizaMG   \n",
      "982604  A2A96H9YA1LG7G                      Sammie's Book  Blog   \n",
      "982605   AIRWHELFXVDR3                                   Sandra   \n",
      "982606  A2XUMT96R2P5JI                                 Sophia H   \n",
      "982607   AGPSU8WMSWFCZ                                      TCO   \n",
      "982608  A1049Y8KPVOSVB                 This Redhead LOVES Books   \n",
      "982609  A1MW856C6F1KXO                                    tosha   \n",
      "982610  A3PNKLCGVG1P3P                                     Trey   \n",
      "982611  A2G3DE7EYTVZG9                         Whitney McGregor   \n",
      "982612   A76D0PDO97IIJ                          Amazon Customer   \n",
      "982613  A23VHARP9XPOXI                            CamilleJoy712   \n",
      "982614  A2Y66HD4J5S7QZ                                    Candi   \n",
      "982615  A17YHECC8H9NEY                                   Margie   \n",
      "982616  A20KO0BPMNREJL                                    Nicki   \n",
      "982617  A1BQO66R6OLCCW                                    Nikey   \n",
      "982618  A2NRGE3CSFY2TQ                                       Yo   \n",
      "\n",
      "                                                  summary  unixReviewTime  \\\n",
      "0                                      Nice vintage story      1399248000   \n",
      "1                                            Different...      1388966400   \n",
      "2                                                   Oldie      1396569600   \n",
      "3                                      I really liked it.      1392768000   \n",
      "4                                          Period Mystery      1395187200   \n",
      "5                                                  Review      1401062400   \n",
      "6                                Nice old fashioned story      1402358400   \n",
      "7           Enjoyable reading and reminding the old times      1395446400   \n",
      "8                                              Darth Maul      1381449600   \n",
      "9                                Not bad, not exceptional      1297555200   \n",
      "10                                         Audio and book      1390780800   \n",
      "11                  Darth Maul...the brother I never had.      1316217600   \n",
      "12                            Not bad; it is well written      1388448000   \n",
      "13      Han and Leia reunited and Barabel Jedi introduced      1331769600   \n",
      "14                                     Possibly Important      1368316800   \n",
      "15                                           Another read      1388620800   \n",
      "16                                               Recovery      1383004800   \n",
      "17                Star Wars: The New Jedi Order: Recovery      1239840000   \n",
      "18                                          my collection      1390780800   \n",
      "19                   Not a necessary read, but I liked it      1342742400   \n",
      "20                Fits right into New Jedi Order timeline      1388448000   \n",
      "21                        Minor New Jedi Order side story      1331769600   \n",
      "22                                                 Ylesia      1391472000   \n",
      "23                                       A Thrackan story      1305590400   \n",
      "24                                       my e- collection      1390780800   \n",
      "25                                       One huge chapter      1344297600   \n",
      "26                            An interesting short story.      1392422400   \n",
      "27      Short story featuring everyone's favorite Wookiee      1219622400   \n",
      "28                                                  Great      1364774400   \n",
      "29                                           Another read      1388620800   \n",
      "...                                                   ...             ...   \n",
      "982589                                          Loved it!      1406073600   \n",
      "982590                            Only Problem- Too Short      1406073600   \n",
      "982591                                     Fantastic READ      1406073600   \n",
      "982592                                Best Quickie Ever!!      1405987200   \n",
      "982593                    Package this one up with a bow!      1405987200   \n",
      "982594                                                WOW      1406073600   \n",
      "982595                                        HOT HOT HOT      1405987200   \n",
      "982596                FIVE Left Me Begging for More STARS      1405987200   \n",
      "982597                            Delightfully delicious!      1406073600   \n",
      "982598                                             HOT!!!      1406073600   \n",
      "982599               Warning you might need a cold shower      1406073600   \n",
      "982600                                    HOT, HOT, HOT!!      1405987200   \n",
      "982601                                     LOVED SO MUCH!      1405987200   \n",
      "982602  Quick read that pulls you in from the first pa...      1405987200   \n",
      "982603                                    Great Delivery!      1405987200   \n",
      "982604                              Misery loves company.      1405987200   \n",
      "982605                                   Amazing Quickie!      1405987200   \n",
      "982606               THIS PACKAGED WAS SO WELL DELIVERED!      1405987200   \n",
      "982607                           It's gettin' hot in here      1405987200   \n",
      "982608  This Package should be read over and over agai...      1406073600   \n",
      "982609                                     hot and steamy      1405987200   \n",
      "982610                                      100% HOT !!!!      1406073600   \n",
      "982611      Sexy and funny... Angela and SE did it AGAIN!      1405987200   \n",
      "982612  Dre is quite possibly the worst character I ha...      1406073600   \n",
      "982613                     EVEYTHING definite 5 star read      1406073600   \n",
      "982614                                A Hot Read Indeed!!      1406073600   \n",
      "982615                                     VERY GOOD BOOK      1406073600   \n",
      "982616                                         Great Read      1406073600   \n",
      "982617                                              Wow!!      1406073600   \n",
      "982618                   Great read.hands down #5star hit      1406073600   \n",
      "\n",
      "        datetimes  \n",
      "0      2014-05-05  \n",
      "1      2014-01-06  \n",
      "2      2014-04-04  \n",
      "3      2014-02-19  \n",
      "4      2014-03-19  \n",
      "5      2014-05-26  \n",
      "6      2014-06-10  \n",
      "7      2014-03-22  \n",
      "8      2013-10-11  \n",
      "9      2011-02-13  \n",
      "10     2014-01-27  \n",
      "11     2011-09-17  \n",
      "12     2013-12-31  \n",
      "13     2012-03-15  \n",
      "14     2013-05-12  \n",
      "15     2014-01-02  \n",
      "16     2013-10-29  \n",
      "17     2009-04-16  \n",
      "18     2014-01-27  \n",
      "19     2012-07-20  \n",
      "20     2013-12-31  \n",
      "21     2012-03-15  \n",
      "22     2014-02-04  \n",
      "23     2011-05-17  \n",
      "24     2014-01-27  \n",
      "25     2012-08-07  \n",
      "26     2014-02-15  \n",
      "27     2008-08-25  \n",
      "28     2013-04-01  \n",
      "29     2014-01-02  \n",
      "...           ...  \n",
      "982589 2014-07-23  \n",
      "982590 2014-07-23  \n",
      "982591 2014-07-23  \n",
      "982592 2014-07-22  \n",
      "982593 2014-07-22  \n",
      "982594 2014-07-23  \n",
      "982595 2014-07-22  \n",
      "982596 2014-07-22  \n",
      "982597 2014-07-23  \n",
      "982598 2014-07-23  \n",
      "982599 2014-07-23  \n",
      "982600 2014-07-22  \n",
      "982601 2014-07-22  \n",
      "982602 2014-07-22  \n",
      "982603 2014-07-22  \n",
      "982604 2014-07-22  \n",
      "982605 2014-07-22  \n",
      "982606 2014-07-22  \n",
      "982607 2014-07-22  \n",
      "982608 2014-07-23  \n",
      "982609 2014-07-22  \n",
      "982610 2014-07-23  \n",
      "982611 2014-07-22  \n",
      "982612 2014-07-23  \n",
      "982613 2014-07-23  \n",
      "982614 2014-07-23  \n",
      "982615 2014-07-23  \n",
      "982616 2014-07-23  \n",
      "982617 2014-07-23  \n",
      "982618 2014-07-23  \n",
      "\n",
      "[982619 rows x 10 columns]\n"
     ]
    }
   ],
   "source": [
    "print data_df"
   ]
  },
  {
   "cell_type": "code",
   "execution_count": null,
   "metadata": {
    "collapsed": true,
    "scrolled": false
   },
   "outputs": [],
   "source": []
  }
 ],
 "metadata": {
  "anaconda-cloud": {},
  "kernelspec": {
   "display_name": "Python [Root]",
   "language": "python",
   "name": "Python [Root]"
  },
  "language_info": {
   "codemirror_mode": {
    "name": "ipython",
    "version": 2
   },
   "file_extension": ".py",
   "mimetype": "text/x-python",
   "name": "python",
   "nbconvert_exporter": "python",
   "pygments_lexer": "ipython2",
   "version": "2.7.12"
  }
 },
 "nbformat": 4,
 "nbformat_minor": 0
}
